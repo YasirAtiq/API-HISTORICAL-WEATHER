{
 "cells": [
  {
   "cell_type": "markdown",
   "id": "0022df71-48e0-4813-8233-ea544d9bc029",
   "metadata": {},
   "source": [
    "# Load the Dataframe"
   ]
  },
  {
   "cell_type": "code",
   "execution_count": null,
   "id": "1aedea2f-2dfe-480a-bf48-5277b7bf8e79",
   "metadata": {},
   "outputs": [],
   "source": [
    "import pandas as pd"
   ]
  },
  {
   "cell_type": "code",
   "execution_count": null,
   "id": "6f209e46-b806-4c31-b597-0192d85a01cb",
   "metadata": {},
   "outputs": [],
   "source": [
    "df = pd.read_csv(\"wines.csv\")"
   ]
  },
  {
   "cell_type": "code",
   "execution_count": null,
   "id": "e101600f-cd31-4115-bbb8-26c945ff9276",
   "metadata": {},
   "outputs": [],
   "source": [
    "df.head(3)"
   ]
  },
  {
   "cell_type": "markdown",
   "id": "f387e1a9-11f3-48ab-8c31-32afc4d45207",
   "metadata": {
    "jp-MarkdownHeadingCollapsed": true
   },
   "source": [
    "# How Many Wines have been given rating of 100?"
   ]
  },
  {
   "cell_type": "code",
   "execution_count": null,
   "id": "0e9acddf-b4f3-4f12-9382-915227bc225f",
   "metadata": {},
   "outputs": [],
   "source": [
    "number = []\n",
    "for row in df[\"price\"]:\n",
    "    if row == 100:\n",
    "        number.append(row)\n",
    "    else:\n",
    "        pass"
   ]
  },
  {
   "cell_type": "code",
   "execution_count": null,
   "id": "ed431b1f-8455-4869-9e5a-40737325aba2",
   "metadata": {},
   "outputs": [],
   "source": [
    "print(len(number))"
   ]
  },
  {
   "cell_type": "markdown",
   "id": "1d3a0cad-2835-4230-b102-37604aa44ace",
   "metadata": {},
   "source": [
    "# What is the Name of the Most Expensive Wine?"
   ]
  },
  {
   "cell_type": "code",
   "execution_count": null,
   "id": "094ce442-1a4c-4ed3-bd00-e2571ad9dbea",
   "metadata": {},
   "outputs": [],
   "source": [
    "df_1 = df.loc[df[\"price\"] == df[\"price\"].max()]"
   ]
  },
  {
   "cell_type": "code",
   "execution_count": null,
   "id": "92c6d537-3ab5-4025-9225-82dadcb62d0c",
   "metadata": {},
   "outputs": [],
   "source": [
    "df_1"
   ]
  },
  {
   "cell_type": "markdown",
   "id": "60e339f2-7bab-4f55-9a9b-efe22ecfb200",
   "metadata": {},
   "source": [
    "# Caluclate a new column where you show the rating from 0 to 5. Floats are allowed"
   ]
  },
  {
   "cell_type": "code",
   "execution_count": null,
   "metadata": {},
   "outputs": [],
   "source": [
    "df[\"Ratings\"] = (df[\"points\"] / 100) * 5\n",
    "df"
   ]
  },
  {
   "cell_type": "markdown",
   "id": "1b6e3fcc-571a-48a6-b671-1fd78495f4c7",
   "metadata": {},
   "source": [
    "# Create a wine histogram for wines that cost bellow 100"
   ]
  },
  {
   "cell_type": "code",
   "execution_count": null,
   "metadata": {},
   "outputs": [],
   "source": [
    "import plotly.express as px\n",
    "df_1 = df.copy(deep=True).loc[df[\"price\"] < 100]\n",
    "x_axis = df_1[\"name\"].to_list()\n",
    "y_axis = df_1[\"price\"].to_list()\n",
    "histogram = px.histogram(df_1, x=x_axis, y=y_axis, labels={\"x\": \"Wines\", \"y\": \"Price\"})\n",
    "histogram"
   ]
  },
  {
   "cell_type": "markdown",
   "id": "53673ead-19e8-4c32-8465-ea11f5a948d7",
   "metadata": {},
   "source": [
    "# Plot prices horizontally against points vertically. Do you think the ratings increased by price?"
   ]
  },
  {
   "cell_type": "code",
   "execution_count": null,
   "metadata": {},
   "outputs": [],
   "source": [
    "import plotly.express as px\n",
    "\n",
    "scatter_plot = px.scatter(data_frame=df, x=df[\"price\"].to_list(), \n",
    "                          y=df[\"points\"], labels={\"x\": \"Prices\", \n",
    "                                                  \"y\": \"Points\"})\n",
    "scatter_plot"
   ]
  },
  {
   "cell_type": "markdown",
   "metadata": {},
   "source": [
    "## Result:\n",
    "The points seem to increase with the prices of the wines."
   ]
  }
 ],
 "metadata": {
  "kernelspec": {
   "display_name": "Python 3 (ipykernel)",
   "language": "python",
   "name": "python3"
  },
  "language_info": {
   "codemirror_mode": {
    "name": "ipython",
    "version": 3
   },
   "file_extension": ".py",
   "mimetype": "text/x-python",
   "name": "python",
   "nbconvert_exporter": "python",
   "pygments_lexer": "ipython3",
   "version": "3.11.5"
  }
 },
 "nbformat": 4,
 "nbformat_minor": 5
}
